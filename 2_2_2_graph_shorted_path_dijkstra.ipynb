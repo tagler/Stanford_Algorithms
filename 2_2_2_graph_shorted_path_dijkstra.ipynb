{
 "cells": [
  {
   "cell_type": "code",
   "execution_count": 1,
   "metadata": {},
   "outputs": [],
   "source": [
    "from collections import defaultdict\n",
    "import math"
   ]
  },
  {
   "cell_type": "code",
   "execution_count": 2,
   "metadata": {},
   "outputs": [],
   "source": [
    "class Graph:\n",
    "    \n",
    "    def __init__(self):\n",
    "        self.nodes = set() \n",
    "        self.edges = defaultdict(list)\n",
    "        self.weights = {}\n",
    " \n",
    "    def add_node(self, node):\n",
    "        self.nodes.add(node)\n",
    " \n",
    "    def add_edge(self, from_node, to_node, weight):\n",
    "        if from_node == to_node: pass  # no cycles allowed\n",
    "        self.edges[from_node].append(to_node)\n",
    "        self.weights[(from_node, to_node)] = weight\n",
    " \n",
    "    def __str__(self):\n",
    "        string = \"Vertices: \" + str(self.nodes) + \"\\n\"\n",
    "        string += \"Edges: \" + str(self.edges) + \"\\n\"\n",
    "        string += \"Weights: \" + str(self.weights)\n",
    "        return string"
   ]
  },
  {
   "cell_type": "code",
   "execution_count": 3,
   "metadata": {},
   "outputs": [],
   "source": [
    "data = [(1,2,1),(1,3,3),(1,4,4),(5,3,5),(4,7,1),\n",
    "        (5,6,9),(10,5,4),(1,7,6),(2,3,6),(4,1,3),\n",
    "        (4,6,1),(5,11,4),(11,10,2),(7,6,3),(3,9,6),\n",
    "        (5,12,3),(12,13,1),(13,14,8),(8,4,3),(14,3,8)]"
   ]
  },
  {
   "cell_type": "code",
   "execution_count": 4,
   "metadata": {},
   "outputs": [
    {
     "name": "stdout",
     "output_type": "stream",
     "text": [
      "Vertices: {1, 2, 3, 4, 5, 6, 7, 8, 9, 10, 11, 12, 13, 14}\n",
      "Edges: defaultdict(<class 'list'>, {1: [2, 3, 4, 7], 5: [3, 6, 11, 12], 4: [7, 1, 6], 10: [5], 2: [3], 11: [10], 7: [6], 3: [9], 12: [13], 13: [14], 8: [4], 14: [3]})\n",
      "Weights: {(1, 2): 1, (1, 3): 3, (1, 4): 4, (5, 3): 5, (4, 7): 1, (5, 6): 9, (10, 5): 4, (1, 7): 6, (2, 3): 6, (4, 1): 3, (4, 6): 1, (5, 11): 4, (11, 10): 2, (7, 6): 3, (3, 9): 6, (5, 12): 3, (12, 13): 1, (13, 14): 8, (8, 4): 3, (14, 3): 8}\n"
     ]
    }
   ],
   "source": [
    "g = Graph()\n",
    "for each in data:\n",
    "    g.add_node(each[0])\n",
    "    g.add_node(each[1])\n",
    "    g.add_edge(each[0],each[1],each[2])\n",
    "print(g)"
   ]
  },
  {
   "cell_type": "code",
   "execution_count": 5,
   "metadata": {},
   "outputs": [],
   "source": [
    "def dijkstra(graph, start):\n",
    "    \n",
    "    # visited nodes\n",
    "    visited_nodes = set()\n",
    "    \n",
    "    # shortest paths for each node\n",
    "    shortest_paths = dict.fromkeys(list(graph.nodes), math.inf)\n",
    "    shortest_paths[start] = 0\n",
    "\n",
    "    # previous nodes\n",
    "    previous_nodes = dict.fromkeys(list(graph.nodes), None)\n",
    "\n",
    "    # loop though all nodes until all are visited \n",
    "    while visited_nodes != graph.nodes:\n",
    "        \n",
    "        # select unvisited node\n",
    "        each_node = min((set(shortest_paths.keys()) - visited_nodes), key=shortest_paths.get)\n",
    "\n",
    "        # loop through each neighboring node\n",
    "        for each_neighbor in set(graph.edges[each_node]) - visited_nodes:\n",
    "            \n",
    "            # calculate path\n",
    "            new_path = shortest_paths[each_node] + graph.weights[each_node, each_neighbor]\n",
    "            \n",
    "            # determine if path is shorter \n",
    "            if new_path < shortest_paths[each_neighbor]:\n",
    "                \n",
    "                # add path to shortest paths\n",
    "                shortest_paths[each_neighbor] = new_path\n",
    "                previous_nodes[each_neighbor] = each_node\n",
    "                \n",
    "        # add node to visited \n",
    "        visited_nodes.add(each_node)\n",
    "\t\t\n",
    "    return (shortest_paths, previous_nodes)"
   ]
  },
  {
   "cell_type": "code",
   "execution_count": 8,
   "metadata": {},
   "outputs": [],
   "source": [
    "def shortest_path(graph, start, end):\n",
    "\t\n",
    "    # run dijkstra's algo\n",
    "    shortest_paths, previous_nodes = dijkstra(graph, start)\n",
    "    paths_list = []\n",
    "    \n",
    "    # loop through all nodes and determine paths\n",
    "    node = end\n",
    "    while node is not None:\n",
    "        paths_list.append(node)\n",
    "        node = previous_nodes[node]\n",
    "\n",
    "    # no path\n",
    "    if len(paths_list) == 1 and paths_list[0] != start:\n",
    "        return False\n",
    "        \n",
    "    paths_list.reverse()    \n",
    "    return paths_list"
   ]
  },
  {
   "cell_type": "code",
   "execution_count": 9,
   "metadata": {},
   "outputs": [
    {
     "data": {
      "text/plain": [
       "[[1],\n",
       " [1, 2],\n",
       " [1, 3],\n",
       " [1, 4],\n",
       " False,\n",
       " [1, 4, 6],\n",
       " [1, 4, 7],\n",
       " False,\n",
       " [1, 3, 9],\n",
       " False,\n",
       " False,\n",
       " False,\n",
       " False,\n",
       " False]"
      ]
     },
     "execution_count": 9,
     "metadata": {},
     "output_type": "execute_result"
    }
   ],
   "source": [
    "path_results = []\n",
    "for each_node in g.nodes:\n",
    "    path_results.append(shortest_path(g, 1, each_node))\n",
    "path_results"
   ]
  }
 ],
 "metadata": {
  "kernelspec": {
   "display_name": "Python 3",
   "language": "python",
   "name": "python3"
  },
  "language_info": {
   "codemirror_mode": {
    "name": "ipython",
    "version": 3
   },
   "file_extension": ".py",
   "mimetype": "text/x-python",
   "name": "python",
   "nbconvert_exporter": "python",
   "pygments_lexer": "ipython3",
   "version": "3.6.7"
  }
 },
 "nbformat": 4,
 "nbformat_minor": 2
}
