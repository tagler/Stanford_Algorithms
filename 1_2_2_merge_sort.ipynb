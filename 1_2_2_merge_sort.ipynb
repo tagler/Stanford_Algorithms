{
 "cells": [
  {
   "cell_type": "code",
   "execution_count": 1,
   "metadata": {},
   "outputs": [],
   "source": [
    "def merge_sort(array):\n",
    "\n",
    "    # base case\n",
    "    if len(array) <= 1:\n",
    "        return array\n",
    "\n",
    "    # split array in half and make recursive calls on each side\n",
    "    split_index = len(array) // 2\n",
    "    left_side = merge_sort( array[:split_index] )\n",
    "    right_side = merge_sort( array[split_index:] )\n",
    "\n",
    "    # merge left and right sides\n",
    "    sorted_array = []\n",
    "    left_index = right_index = 0\n",
    "    while left_index < len(left_side) and right_index < len(right_side):\n",
    "        if left_side[left_index] < right_side[right_index]:\n",
    "            sorted_array.append(left_side[left_index])\n",
    "            left_index += 1\n",
    "        else:\n",
    "            sorted_array.append(right_side[right_index])\n",
    "            right_index += 1\n",
    "    sorted_array += left_side[left_index:]\n",
    "    sorted_array += right_side[right_index:]\n",
    "    \n",
    "    return sorted_array"
   ]
  },
  {
   "cell_type": "code",
   "execution_count": 2,
   "metadata": {},
   "outputs": [],
   "source": [
    "data_list_int = [1,4,6,3,9,4,2,7,4,2,4,6,2,3,4,5,0,10,3,6,8,9,2]"
   ]
  },
  {
   "cell_type": "code",
   "execution_count": 3,
   "metadata": {},
   "outputs": [
    {
     "data": {
      "text/plain": [
       "[0, 1, 2, 2, 2, 2, 3, 3, 3, 4, 4, 4, 4, 4, 5, 6, 6, 6, 7, 8, 9, 9, 10]"
      ]
     },
     "execution_count": 3,
     "metadata": {},
     "output_type": "execute_result"
    }
   ],
   "source": [
    "merge_sort(data_list_int)"
   ]
  }
 ],
 "metadata": {
  "kernelspec": {
   "display_name": "Python 3",
   "language": "python",
   "name": "python3"
  },
  "language_info": {
   "codemirror_mode": {
    "name": "ipython",
    "version": 3
   },
   "file_extension": ".py",
   "mimetype": "text/x-python",
   "name": "python",
   "nbconvert_exporter": "python",
   "pygments_lexer": "ipython3",
   "version": "3.6.7"
  }
 },
 "nbformat": 4,
 "nbformat_minor": 2
}
