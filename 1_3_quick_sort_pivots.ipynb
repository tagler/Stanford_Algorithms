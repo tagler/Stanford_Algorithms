{
 "cells": [
  {
   "cell_type": "code",
   "execution_count": 1,
   "metadata": {},
   "outputs": [],
   "source": [
    "import random "
   ]
  },
  {
   "cell_type": "code",
   "execution_count": 2,
   "metadata": {},
   "outputs": [],
   "source": [
    "def quick_sort(array):\n",
    "    \n",
    "    # lists to store values for less, greater, equal to pivot \n",
    "    less = []\n",
    "    equal = []\n",
    "    more = []\n",
    "    \n",
    "    # base case\n",
    "    if len(array) <= 1:\n",
    "        return array\n",
    "    \n",
    "    else:\n",
    "        \n",
    "        # pivot value options \n",
    "        # pivot = array[0]                     # first\n",
    "        # pivot = array[len(array)-1]          # last\n",
    "        pivot = random.choice(array)         # random\n",
    "\n",
    "        # seperate into less, more, equal lists \n",
    "        for each_value in array:\n",
    "            if each_value < pivot:\n",
    "                less.append( each_value )\n",
    "            elif each_value > pivot:\n",
    "                more.append( each_value )\n",
    "            else:\n",
    "                equal.append( each_value )\n",
    "        \n",
    "        # recursive calls for both sides of pivot \n",
    "        less = quick_sort(less)\n",
    "        more = quick_sort(more)\n",
    "        \n",
    "        # returns sorted list \n",
    "        return less + equal + more"
   ]
  },
  {
   "cell_type": "code",
   "execution_count": 3,
   "metadata": {},
   "outputs": [],
   "source": [
    "data_list_int = [1,4,6,3,9,4,2,7,4,2,4,6,2,3,4,5,0,10,3,6,8,9,2]"
   ]
  },
  {
   "cell_type": "code",
   "execution_count": 4,
   "metadata": {},
   "outputs": [
    {
     "data": {
      "text/plain": [
       "[0, 1, 2, 2, 2, 2, 3, 3, 3, 4, 4, 4, 4, 4, 5, 6, 6, 6, 7, 8, 9, 9, 10]"
      ]
     },
     "execution_count": 4,
     "metadata": {},
     "output_type": "execute_result"
    }
   ],
   "source": [
    "quick_sort(data_list_int)"
   ]
  }
 ],
 "metadata": {
  "kernelspec": {
   "display_name": "Python 3",
   "language": "python",
   "name": "python3"
  },
  "language_info": {
   "codemirror_mode": {
    "name": "ipython",
    "version": 3
   },
   "file_extension": ".py",
   "mimetype": "text/x-python",
   "name": "python",
   "nbconvert_exporter": "python",
   "pygments_lexer": "ipython3",
   "version": "3.6.7"
  }
 },
 "nbformat": 4,
 "nbformat_minor": 2
}
