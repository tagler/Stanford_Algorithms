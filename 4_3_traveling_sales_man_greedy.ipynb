{
 "cells": [
  {
   "cell_type": "code",
   "execution_count": 1,
   "metadata": {},
   "outputs": [],
   "source": [
    "import numpy as np\n",
    "import math"
   ]
  },
  {
   "cell_type": "code",
   "execution_count": 2,
   "metadata": {},
   "outputs": [],
   "source": [
    "# distance between 2 points\n",
    "def dist_funct(point_1, point_2):\n",
    "    point_1_x = point_1[0]\n",
    "    point_1_y = point_1[1]\n",
    "    point_2_x = point_2[0]\n",
    "    point_2_y = point_2[1]\n",
    "    diff_squares = (point_1_x - point_2_x)**2 + (point_1_y - point_2_y)**2\n",
    "    return math.sqrt(diff_squares)"
   ]
  },
  {
   "cell_type": "code",
   "execution_count": 3,
   "metadata": {},
   "outputs": [],
   "source": [
    "# data\n",
    "data_list = [[1,2],[3,4],[2,1],[3,6],[3,2],[5,1],[4,2],[10,4]] "
   ]
  },
  {
   "cell_type": "code",
   "execution_count": 4,
   "metadata": {},
   "outputs": [],
   "source": [
    "# travel path\n",
    "path = []\n",
    "\n",
    "# list of all points not visited yet\n",
    "not_visited = data_list.copy()\n",
    "\n",
    "# loop for all points \n",
    "for x in range(0, len(data_list)):\n",
    "    \n",
    "    # first point visited is first point in dataset\n",
    "    if x == 0:\n",
    "        # add to path\n",
    "        path.append( (not_visited[0], 0) )\n",
    "        # remove from not visited points \n",
    "        not_visited.remove( not_visited[0] )\n",
    "    \n",
    "    else:\n",
    "        # calculate minimun distance between all not visited points  \n",
    "        previous_point = path[x-1][0]\n",
    "        distances = []\n",
    "        for each_point in not_visited:\n",
    "            distances.append( dist_funct(previous_point, each_point) )\n",
    "        \n",
    "        # minimun distance index and value\n",
    "        min_index = np.argmin(distances)\n",
    "        min_dist_value = min(distances)\n",
    "        \n",
    "        # add cloest point to path\n",
    "        path.append( (not_visited[min_index], min_dist_value) )\n",
    "        # remove from not visited points \n",
    "        not_visited.remove( not_visited[min_index] )\n",
    "    \n",
    "# loop back around to first point\n",
    "path.append( (path[0][0], dist_funct(path[x][0], path[0][0]) ) )"
   ]
  },
  {
   "cell_type": "code",
   "execution_count": 5,
   "metadata": {},
   "outputs": [
    {
     "data": {
      "text/plain": [
       "[([1, 2], 0),\n",
       " ([2, 1], 1.4142135623730951),\n",
       " ([3, 2], 1.4142135623730951),\n",
       " ([4, 2], 1.0),\n",
       " ([5, 1], 1.4142135623730951),\n",
       " ([3, 4], 3.605551275463989),\n",
       " ([3, 6], 2.0),\n",
       " ([10, 4], 7.280109889280518),\n",
       " ([1, 2], 9.219544457292887)]"
      ]
     },
     "execution_count": 5,
     "metadata": {},
     "output_type": "execute_result"
    }
   ],
   "source": [
    "# display path and distances between points \n",
    "path"
   ]
  },
  {
   "cell_type": "code",
   "execution_count": 6,
   "metadata": {},
   "outputs": [
    {
     "data": {
      "text/plain": [
       "27.34784630915668"
      ]
     },
     "execution_count": 6,
     "metadata": {},
     "output_type": "execute_result"
    }
   ],
   "source": [
    "# display total distance \n",
    "total_distance = 0\n",
    "for each in path:\n",
    "    total_distance = total_distance + each[1]\n",
    "total_distance"
   ]
  }
 ],
 "metadata": {
  "kernelspec": {
   "display_name": "Python 3",
   "language": "python",
   "name": "python3"
  },
  "language_info": {
   "codemirror_mode": {
    "name": "ipython",
    "version": 3
   },
   "file_extension": ".py",
   "mimetype": "text/x-python",
   "name": "python",
   "nbconvert_exporter": "python",
   "pygments_lexer": "ipython3",
   "version": "3.6.7"
  }
 },
 "nbformat": 4,
 "nbformat_minor": 2
}
