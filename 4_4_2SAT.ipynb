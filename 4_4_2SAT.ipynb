{
 "cells": [
  {
   "cell_type": "code",
   "execution_count": 1,
   "metadata": {},
   "outputs": [],
   "source": [
    "import pandas as pd\n",
    "import networkx as nx"
   ]
  },
  {
   "cell_type": "code",
   "execution_count": 2,
   "metadata": {},
   "outputs": [],
   "source": [
    "data_list = [[1,-2], [-1,2], [-1,-2], [1,-3]]"
   ]
  },
  {
   "cell_type": "code",
   "execution_count": 3,
   "metadata": {},
   "outputs": [],
   "source": [
    "# convert bollean logic to graph nodes\n",
    "n = len(data_list)\n",
    "sat_graph = []\n",
    "for each in data_list: \n",
    "    sat_graph.append( [ -each[0], each[1] ] )\n",
    "    sat_graph.append( [ -each[1], each[0] ] )"
   ]
  },
  {
   "cell_type": "code",
   "execution_count": 4,
   "metadata": {},
   "outputs": [],
   "source": [
    "# make graph\n",
    "G = nx.DiGraph()\n",
    "G.add_edges_from( sat_graph )"
   ]
  },
  {
   "cell_type": "code",
   "execution_count": 5,
   "metadata": {},
   "outputs": [],
   "source": [
    "# find SCCs\n",
    "scc = list(nx.strongly_connected_components_recursive(G))"
   ]
  },
  {
   "cell_type": "code",
   "execution_count": 6,
   "metadata": {},
   "outputs": [],
   "source": [
    "# find +/- nodes in the same SCC\n",
    "invalid = set()\n",
    "for each_scc in scc:\n",
    "    for each_1 in each_scc:\n",
    "        for each_2 in each_scc:\n",
    "            if each_1 == -1 * each_2:\n",
    "                if each_1 > each_2:\n",
    "                    invalid.add( (each_1, each_2) )\n",
    "                else:\n",
    "                    invalid.add( (each_2, each_1) )"
   ]
  },
  {
   "cell_type": "code",
   "execution_count": 7,
   "metadata": {},
   "outputs": [
    {
     "name": "stdout",
     "output_type": "stream",
     "text": [
      "SAT\n"
     ]
    }
   ],
   "source": [
    "# determine if sat or not sat\n",
    "if invalid:\n",
    "    print(\"UNSAT - UNABLE TO BE SOLVED\", invalid)\n",
    "else:\n",
    "    print(\"SAT\")"
   ]
  }
 ],
 "metadata": {
  "kernelspec": {
   "display_name": "Python 3",
   "language": "python",
   "name": "python3"
  },
  "language_info": {
   "codemirror_mode": {
    "name": "ipython",
    "version": 3
   },
   "file_extension": ".py",
   "mimetype": "text/x-python",
   "name": "python",
   "nbconvert_exporter": "python",
   "pygments_lexer": "ipython3",
   "version": "3.6.7"
  }
 },
 "nbformat": 4,
 "nbformat_minor": 2
}
