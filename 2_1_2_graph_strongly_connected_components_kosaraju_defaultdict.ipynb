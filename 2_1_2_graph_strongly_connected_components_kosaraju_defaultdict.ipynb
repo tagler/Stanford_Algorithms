{
 "cells": [
  {
   "cell_type": "code",
   "execution_count": 1,
   "metadata": {},
   "outputs": [],
   "source": [
    "from collections import defaultdict"
   ]
  },
  {
   "cell_type": "code",
   "execution_count": 2,
   "metadata": {},
   "outputs": [
    {
     "data": {
      "text/plain": [
       "defaultdict(list,\n",
       "            {1: [2, 3, 4, 7],\n",
       "             5: [3, 6, 11, 12],\n",
       "             4: [7, 1, 6],\n",
       "             10: [5],\n",
       "             2: [3],\n",
       "             11: [10],\n",
       "             7: [6],\n",
       "             3: [9],\n",
       "             12: [13],\n",
       "             13: [14],\n",
       "             8: [4],\n",
       "             14: [3]})"
      ]
     },
     "execution_count": 2,
     "metadata": {},
     "output_type": "execute_result"
    }
   ],
   "source": [
    "# creates graph (dictionary format)\n",
    "edges = [(1,2),(1,3),(1,4),(5,3),(4,7),\n",
    "         (5,6),(10,5),(1,7),(2,3),(4,1),\n",
    "         (4,6),(5,11),(11,10),(7,6),(3,9),\n",
    "         (5,12),(12,13),(13,14),(8,4),(14,3)]\n",
    "graph = defaultdict(list)\n",
    "for each_edge in edges:\n",
    "    graph[ each_edge[0] ].append( each_edge[1] )\n",
    "graph"
   ]
  },
  {
   "cell_type": "code",
   "execution_count": 3,
   "metadata": {},
   "outputs": [],
   "source": [
    "# reverses direction of edges and returns new graph \n",
    "def reverse(graph):\n",
    "    reverse_graph = defaultdict(list)\n",
    "    for each_key in graph:\n",
    "        for each_value in graph[ each_key ]:\n",
    "            reverse_graph[ each_value ].append(each_key)\n",
    "    return reverse_graph"
   ]
  },
  {
   "cell_type": "code",
   "execution_count": 4,
   "metadata": {},
   "outputs": [
    {
     "data": {
      "text/plain": [
       "defaultdict(list,\n",
       "            {2: [1],\n",
       "             3: [1, 5, 2, 14],\n",
       "             4: [1, 8],\n",
       "             7: [1, 4],\n",
       "             6: [5, 4, 7],\n",
       "             11: [5],\n",
       "             12: [5],\n",
       "             1: [4],\n",
       "             5: [10],\n",
       "             10: [11],\n",
       "             9: [3],\n",
       "             13: [12],\n",
       "             14: [13]})"
      ]
     },
     "execution_count": 4,
     "metadata": {},
     "output_type": "execute_result"
    }
   ],
   "source": [
    "reverse(graph)"
   ]
  },
  {
   "cell_type": "code",
   "execution_count": 5,
   "metadata": {},
   "outputs": [],
   "source": [
    "def first_pass(graph):\n",
    "    \n",
    "    nodes_explored = set()\n",
    "    order = []\n",
    "\n",
    "    def dfs( node ):\n",
    "        nodes_explored.add( node )\n",
    "        for each_value in graph[ node ]:\n",
    "            if each_value not in nodes_explored:\n",
    "                dfs( each_value )\n",
    "        order.append( node )\n",
    "\n",
    "    for each_key in graph.copy():\n",
    "        if each_key not in nodes_explored:\n",
    "            dfs( each_key )\n",
    "            \n",
    "    return order"
   ]
  },
  {
   "cell_type": "code",
   "execution_count": 6,
   "metadata": {},
   "outputs": [],
   "source": [
    "def second_pass(graph, order):\n",
    "    \n",
    "    nodes_explored = set()\n",
    "    leader = defaultdict(list)\n",
    "    \n",
    "    for each_node in reversed( order ):\n",
    "        if each_node not in nodes_explored:\n",
    "            \n",
    "            nodes_explored.add( each_node )\n",
    "            stack = [ each_node ]\n",
    "            \n",
    "            while stack:\n",
    "                node = stack.pop()\n",
    "                for each_value in graph[ node ]:\n",
    "                    if each_value not in nodes_explored:\n",
    "                        nodes_explored.add( each_value )\n",
    "                        stack.append( each_value )\n",
    "                leader[ each_node ].append( node )\n",
    "                \n",
    "    return leader"
   ]
  },
  {
   "cell_type": "code",
   "execution_count": 7,
   "metadata": {},
   "outputs": [],
   "source": [
    "def kosaraju(graph):\n",
    "    reverse_graph = reverse(graph)\n",
    "    order = first_pass(reverse_graph)\n",
    "    scc_graph = second_pass(graph, order)\n",
    "    sccs = scc_graph.values()\n",
    "    return sorted(map(len, sccs))[::-1]"
   ]
  },
  {
   "cell_type": "code",
   "execution_count": 8,
   "metadata": {},
   "outputs": [
    {
     "data": {
      "text/plain": [
       "[3, 2, 1, 1, 1]"
      ]
     },
     "execution_count": 8,
     "metadata": {},
     "output_type": "execute_result"
    }
   ],
   "source": [
    "kosaraju(graph)[0:5]"
   ]
  }
 ],
 "metadata": {
  "kernelspec": {
   "display_name": "Python 3",
   "language": "python",
   "name": "python3"
  },
  "language_info": {
   "codemirror_mode": {
    "name": "ipython",
    "version": 3
   },
   "file_extension": ".py",
   "mimetype": "text/x-python",
   "name": "python",
   "nbconvert_exporter": "python",
   "pygments_lexer": "ipython3",
   "version": "3.6.7"
  }
 },
 "nbformat": 4,
 "nbformat_minor": 2
}
