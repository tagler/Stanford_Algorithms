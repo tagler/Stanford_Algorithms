{
 "cells": [
  {
   "cell_type": "code",
   "execution_count": 1,
   "metadata": {},
   "outputs": [],
   "source": [
    "def karatsuba(first_number, second_number):\n",
    "    \n",
    "    # base case, single digit number(s)\n",
    "    if first_number < 10 or second_number < 10:\n",
    "        return first_number * second_number\n",
    "            \n",
    "    # max number of digits \n",
    "    max_number_of_digits = max( len(str(first_number)), len(str(second_number)) )\n",
    "\n",
    "    # karatsuba algorithim values\n",
    "    n_over_2 = max_number_of_digits // 2\n",
    "    a = first_number // 10**n_over_2\n",
    "    b = first_number % 10**n_over_2\n",
    "    c = second_number // 10**n_over_2\n",
    "    d = second_number % 10**n_over_2\n",
    "    \n",
    "    # karatsuba algorithim recursive calls\n",
    "    ac = karatsuba(a, c)\n",
    "    bd = karatsuba(b, d)\n",
    "    ab_cd = karatsuba( (a+b), (c+d) )\n",
    "\n",
    "    return (ac * 10**(2*n_over_2)) + ((ab_cd - ac - bd) * 10**(n_over_2)) + (bd)"
   ]
  },
  {
   "cell_type": "code",
   "execution_count": 2,
   "metadata": {},
   "outputs": [
    {
     "data": {
      "text/plain": [
       "7006652"
      ]
     },
     "execution_count": 2,
     "metadata": {},
     "output_type": "execute_result"
    }
   ],
   "source": [
    "karatsuba(1234,5678)"
   ]
  }
 ],
 "metadata": {
  "kernelspec": {
   "display_name": "Python 3",
   "language": "python",
   "name": "python3"
  },
  "language_info": {
   "codemirror_mode": {
    "name": "ipython",
    "version": 3
   },
   "file_extension": ".py",
   "mimetype": "text/x-python",
   "name": "python",
   "nbconvert_exporter": "python",
   "pygments_lexer": "ipython3",
   "version": "3.6.7"
  }
 },
 "nbformat": 4,
 "nbformat_minor": 2
}
