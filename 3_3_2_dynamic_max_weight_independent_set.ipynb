{
 "cells": [
  {
   "cell_type": "code",
   "execution_count": 1,
   "metadata": {},
   "outputs": [],
   "source": [
    "data = [2, 3, 4, 5, 3, 2, 4, 3, 2, 1, 5, 4, 3, 2, 1, 2, 4, 4 ,5, 6]"
   ]
  },
  {
   "cell_type": "code",
   "execution_count": 2,
   "metadata": {},
   "outputs": [],
   "source": [
    "# cache\n",
    "A = {}\n",
    "A[0] = 0\n",
    "A[1] = data[0]\n",
    "for i in range(2, len(data)):\n",
    "    A[i] = max( A[i-1] , A[i-2] + data[i-1] )"
   ]
  },
  {
   "cell_type": "code",
   "execution_count": 3,
   "metadata": {},
   "outputs": [],
   "source": [
    "# loop through data right to left \n",
    "S = set()\n",
    "i = len(data) \n",
    "while i > 1:\n",
    "    if A[i - 1] >= (A[i - 2] + data[i-1]):\n",
    "        i = i - 1\n",
    "    else:\n",
    "        S.add(i)\n",
    "        i = i - 2\n",
    "if i == 1:\n",
    "    if A[i - 1] >= (data[i-1]):\n",
    "        i = i - 1\n",
    "    else:\n",
    "        S.add(i)\n",
    "        i = i - 2"
   ]
  },
  {
   "cell_type": "code",
   "execution_count": 4,
   "metadata": {},
   "outputs": [
    {
     "name": "stdout",
     "output_type": "stream",
     "text": [
      "{1, 3, 5, 7, 9, 11, 13, 16, 18, 20}\n"
     ]
    }
   ],
   "source": [
    "# max independent set (index values)\n",
    "print(S)"
   ]
  },
  {
   "cell_type": "code",
   "execution_count": 5,
   "metadata": {},
   "outputs": [
    {
     "name": "stdout",
     "output_type": "stream",
     "text": [
      "[2, 4, 3, 4, 2, 5, 3, 2, 4, 6]\n"
     ]
    }
   ],
   "source": [
    "# weights\n",
    "weights = []\n",
    "for each_index in S:\n",
    "    weights.append( data[each_index-1] )\n",
    "print(weights)"
   ]
  },
  {
   "cell_type": "code",
   "execution_count": 6,
   "metadata": {},
   "outputs": [
    {
     "name": "stdout",
     "output_type": "stream",
     "text": [
      "35\n"
     ]
    }
   ],
   "source": [
    "# weight sum \n",
    "print( sum(weights) )"
   ]
  }
 ],
 "metadata": {
  "kernelspec": {
   "display_name": "Python 3",
   "language": "python",
   "name": "python3"
  },
  "language_info": {
   "codemirror_mode": {
    "name": "ipython",
    "version": 3
   },
   "file_extension": ".py",
   "mimetype": "text/x-python",
   "name": "python",
   "nbconvert_exporter": "python",
   "pygments_lexer": "ipython3",
   "version": "3.6.7"
  }
 },
 "nbformat": 4,
 "nbformat_minor": 2
}
