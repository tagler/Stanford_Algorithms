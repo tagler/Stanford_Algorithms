{
 "cells": [
  {
   "cell_type": "code",
   "execution_count": 7,
   "metadata": {},
   "outputs": [],
   "source": [
    "import networkx as nx"
   ]
  },
  {
   "cell_type": "code",
   "execution_count": 8,
   "metadata": {},
   "outputs": [],
   "source": [
    "# create graph\n",
    "G = nx.DiGraph()"
   ]
  },
  {
   "cell_type": "code",
   "execution_count": 9,
   "metadata": {},
   "outputs": [],
   "source": [
    "# add data\n",
    "G.add_weighted_edges_from( [[1,2,5],[2,3,1],[4,3,-1],[3,2,1],[4,5,-3],[1,4,2],[2,4,4],[5,1,3]] )"
   ]
  },
  {
   "cell_type": "code",
   "execution_count": 10,
   "metadata": {},
   "outputs": [],
   "source": [
    "# calculate shortest paths\n",
    "paths = dict(nx.all_pairs_bellman_ford_path(G))"
   ]
  },
  {
   "cell_type": "code",
   "execution_count": 11,
   "metadata": {},
   "outputs": [
    {
     "name": "stdout",
     "output_type": "stream",
     "text": [
      "1-to-1: Length: 1, Path: [1] \n",
      "1-to-2: Length: 4, Path: [1, 4, 3, 2] \n",
      "1-to-3: Length: 3, Path: [1, 4, 3] \n",
      "1-to-4: Length: 2, Path: [1, 4] \n",
      "1-to-5: Length: 3, Path: [1, 4, 5] \n",
      "2-to-1: Length: 4, Path: [2, 4, 5, 1] \n",
      "2-to-2: Length: 1, Path: [2] \n",
      "2-to-3: Length: 2, Path: [2, 3] \n",
      "2-to-4: Length: 2, Path: [2, 4] \n",
      "2-to-5: Length: 3, Path: [2, 4, 5] \n",
      "3-to-1: Length: 5, Path: [3, 2, 4, 5, 1] \n",
      "3-to-2: Length: 2, Path: [3, 2] \n",
      "3-to-3: Length: 1, Path: [3] \n",
      "3-to-4: Length: 3, Path: [3, 2, 4] \n",
      "3-to-5: Length: 4, Path: [3, 2, 4, 5] \n",
      "4-to-1: Length: 3, Path: [4, 5, 1] \n",
      "4-to-2: Length: 3, Path: [4, 3, 2] \n",
      "4-to-3: Length: 2, Path: [4, 3] \n",
      "4-to-4: Length: 1, Path: [4] \n",
      "4-to-5: Length: 2, Path: [4, 5] \n",
      "5-to-1: Length: 2, Path: [5, 1] \n",
      "5-to-2: Length: 5, Path: [5, 1, 4, 3, 2] \n",
      "5-to-3: Length: 4, Path: [5, 1, 4, 3] \n",
      "5-to-4: Length: 3, Path: [5, 1, 4] \n",
      "5-to-5: Length: 1, Path: [5] \n"
     ]
    }
   ],
   "source": [
    "# dispalys shortest paths and lengths \n",
    "for each_node_1 in list(G.nodes):\n",
    "    for each_node_2 in list(G.nodes):\n",
    "        print( \"{}-to-{}: Length: {}, Path: {} \".format(each_node_1, \n",
    "                                                        each_node_2, \n",
    "                                                        len(paths[each_node_1][each_node_2]),    \n",
    "                                                        paths[each_node_1][each_node_2]))"
   ]
  },
  {
   "cell_type": "code",
   "execution_count": 12,
   "metadata": {},
   "outputs": [
    {
     "name": "stdout",
     "output_type": "stream",
     "text": [
      "1-to-1: 0\n",
      "1-to-2: 2\n",
      "1-to-3: 1\n",
      "1-to-4: 2\n",
      "1-to-5: -1\n",
      "2-to-1: 4\n",
      "2-to-2: 0\n",
      "2-to-3: 1\n",
      "2-to-4: 4\n",
      "2-to-5: 1\n",
      "3-to-1: 5\n",
      "3-to-2: 1\n",
      "3-to-3: 0\n",
      "3-to-4: 5\n",
      "3-to-5: 2\n",
      "4-to-1: 0\n",
      "4-to-2: 0\n",
      "4-to-3: -1\n",
      "4-to-4: 0\n",
      "4-to-5: -3\n",
      "5-to-1: 3\n",
      "5-to-2: 5\n",
      "5-to-3: 4\n",
      "5-to-4: 5\n",
      "5-to-5: 0\n"
     ]
    }
   ],
   "source": [
    "# displays min path distances \n",
    "path_distance_values = []\n",
    "for each_node_1 in list(G.nodes):\n",
    "    pred, dist = nx.bellman_ford_predecessor_and_distance(G, each_node_1)\n",
    "    for each_node_2 in list(G.nodes):\n",
    "        path_distance_values.append( dist[each_node_2] )\n",
    "        print( \"{}-to-{}: {}\".format(each_node_1, each_node_2, dist[each_node_2]))"
   ]
  },
  {
   "cell_type": "code",
   "execution_count": 13,
   "metadata": {},
   "outputs": [
    {
     "data": {
      "text/plain": [
       "-3"
      ]
     },
     "execution_count": 13,
     "metadata": {},
     "output_type": "execute_result"
    }
   ],
   "source": [
    "# minimun path distance \n",
    "min(path_distance_values)"
   ]
  }
 ],
 "metadata": {
  "kernelspec": {
   "display_name": "Python 3",
   "language": "python",
   "name": "python3"
  },
  "language_info": {
   "codemirror_mode": {
    "name": "ipython",
    "version": 3
   },
   "file_extension": ".py",
   "mimetype": "text/x-python",
   "name": "python",
   "nbconvert_exporter": "python",
   "pygments_lexer": "ipython3",
   "version": "3.6.7"
  }
 },
 "nbformat": 4,
 "nbformat_minor": 2
}
