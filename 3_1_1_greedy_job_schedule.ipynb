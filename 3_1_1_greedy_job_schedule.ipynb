{
 "cells": [
  {
   "cell_type": "code",
   "execution_count": 1,
   "metadata": {},
   "outputs": [],
   "source": [
    "import pandas as pd"
   ]
  },
  {
   "cell_type": "code",
   "execution_count": 2,
   "metadata": {},
   "outputs": [],
   "source": [
    "# data\n",
    "raw_data = pd.DataFrame({'weight' : [13,43,23,12,45,23], 'length' : [1,2,5,3,2,1]})"
   ]
  },
  {
   "cell_type": "code",
   "execution_count": 3,
   "metadata": {},
   "outputs": [],
   "source": [
    "# job schedule via difference\n",
    "data_diff = raw_data.copy()\n",
    "data_diff['difference'] = data_diff['weight'] - data_diff['length']\n",
    "data_diff = data_diff.sort_values(['difference','weight'], ascending=False)\n",
    "data_diff['completion_time'] = data_diff['length'].cumsum()\n",
    "data_diff['weighted_completion_time'] = data_diff['completion_time'] * data_diff['weight']"
   ]
  },
  {
   "cell_type": "code",
   "execution_count": 4,
   "metadata": {},
   "outputs": [
    {
     "data": {
      "text/plain": [
       "918"
      ]
     },
     "execution_count": 4,
     "metadata": {},
     "output_type": "execute_result"
    }
   ],
   "source": [
    "# sum of weighted completion times\n",
    "sum(data_diff['weighted_completion_time'])"
   ]
  },
  {
   "cell_type": "code",
   "execution_count": 5,
   "metadata": {},
   "outputs": [],
   "source": [
    "# job schedule via ratio\n",
    "data_ratio = raw_data.copy()\n",
    "data_ratio['ratio'] = data_ratio['weight'] / data_ratio['length']\n",
    "data_ratio = data_ratio.sort_values('ratio', ascending=False)\n",
    "data_ratio['completion_time'] = data_ratio['length'].cumsum()\n",
    "data_ratio['weighted_completion_time'] = data_ratio['completion_time'] * data_ratio['weight']"
   ]
  },
  {
   "cell_type": "code",
   "execution_count": 6,
   "metadata": {},
   "outputs": [
    {
     "data": {
      "text/plain": [
       "872"
      ]
     },
     "execution_count": 6,
     "metadata": {},
     "output_type": "execute_result"
    }
   ],
   "source": [
    "# sum of weighted completion times\n",
    "sum(data_ratio['weighted_completion_time'])"
   ]
  }
 ],
 "metadata": {
  "kernelspec": {
   "display_name": "Python 3",
   "language": "python",
   "name": "python3"
  },
  "language_info": {
   "codemirror_mode": {
    "name": "ipython",
    "version": 3
   },
   "file_extension": ".py",
   "mimetype": "text/x-python",
   "name": "python",
   "nbconvert_exporter": "python",
   "pygments_lexer": "ipython3",
   "version": "3.6.7"
  }
 },
 "nbformat": 4,
 "nbformat_minor": 2
}
