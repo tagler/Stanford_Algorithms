{
 "cells": [
  {
   "cell_type": "code",
   "execution_count": 16,
   "metadata": {},
   "outputs": [],
   "source": [
    "item_data =[[23,2],[12,1],[12,4],[43,1],[49,3]]\n",
    "knapsack_size = 10 \n",
    "number_of_items = 5"
   ]
  },
  {
   "cell_type": "code",
   "execution_count": 20,
   "metadata": {},
   "outputs": [],
   "source": [
    "A = [[],[]]\n",
    "\n",
    "for x in range(0, knapsack_size+1):\n",
    "    A[0].append(0)\n",
    "    A[1].append(0)\n",
    "\n",
    "for i in range(1, number_of_items+1):\n",
    "    for x in range(1, knapsack_size+1):\n",
    "\n",
    "        if x < item_data[i-1][1]:\n",
    "            A[1][x] = A[0][x]\n",
    "        else:\n",
    "            A[1][x] = max( A[0][x] , A[0][x-item_data[i-1][1]] + item_data[i-1][0] )\n",
    "\n",
    "    A[0], A[1] = A[1], A[0]"
   ]
  },
  {
   "cell_type": "code",
   "execution_count": 21,
   "metadata": {},
   "outputs": [
    {
     "data": {
      "text/plain": [
       "[[0, 43, 55, 66, 92, 104, 115, 127, 127, 127, 127],\n",
       " [0, 43, 55, 66, 78, 78, 78, 78, 90, 90, 90]]"
      ]
     },
     "execution_count": 21,
     "metadata": {},
     "output_type": "execute_result"
    }
   ],
   "source": [
    "A"
   ]
  },
  {
   "cell_type": "code",
   "execution_count": 22,
   "metadata": {},
   "outputs": [
    {
     "data": {
      "text/plain": [
       "127"
      ]
     },
     "execution_count": 22,
     "metadata": {},
     "output_type": "execute_result"
    }
   ],
   "source": [
    "A[0][knapsack_size] "
   ]
  }
 ],
 "metadata": {
  "kernelspec": {
   "display_name": "Python 3",
   "language": "python",
   "name": "python3"
  },
  "language_info": {
   "codemirror_mode": {
    "name": "ipython",
    "version": 3
   },
   "file_extension": ".py",
   "mimetype": "text/x-python",
   "name": "python",
   "nbconvert_exporter": "python",
   "pygments_lexer": "ipython3",
   "version": "3.6.7"
  }
 },
 "nbformat": 4,
 "nbformat_minor": 2
}
