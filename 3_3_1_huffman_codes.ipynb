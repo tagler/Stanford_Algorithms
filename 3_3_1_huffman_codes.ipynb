{
 "cells": [
  {
   "cell_type": "code",
   "execution_count": 149,
   "metadata": {},
   "outputs": [],
   "source": [
    "from heapq import heappush, heappop, heapify"
   ]
  },
  {
   "cell_type": "code",
   "execution_count": 150,
   "metadata": {},
   "outputs": [],
   "source": [
    "def huffman_encode(freq_dict):\n",
    "    \n",
    "    # create heap\n",
    "    heap = []\n",
    "    for symbol, weight in freq_dict.items():\n",
    "        heap.append([weight, [symbol, \"\"]])\n",
    "    heapify(heap)\n",
    "\n",
    "    # build huffman code tree\n",
    "    while len(heap) > 1:\n",
    "        lo = heappop(heap)\n",
    "        hi = heappop(heap)\n",
    "        for pair in lo[1:]:\n",
    "            pair[1] = '0' + pair[1]\n",
    "        for pair in hi[1:]:\n",
    "            pair[1] = '1' + pair[1]\n",
    "        heappush(heap, [lo[0] + hi[0]] + lo[1:] + hi[1:])\n",
    "    \n",
    "    return sorted(heappop(heap)[1:], key=lambda p: (len(p[-1]), p))"
   ]
  },
  {
   "cell_type": "code",
   "execution_count": 151,
   "metadata": {},
   "outputs": [],
   "source": [
    "# data\n",
    "freq_dict = { 'a' : 100, 'b' : 232, 'c' : 323, 'd' : 2, 'e' : 32, 'f' : 32, 'g' : 1243 }"
   ]
  },
  {
   "cell_type": "code",
   "execution_count": 152,
   "metadata": {},
   "outputs": [],
   "source": [
    "# huffman encode \n",
    "huff = huffman_encode(freq_dict)"
   ]
  },
  {
   "cell_type": "code",
   "execution_count": 153,
   "metadata": {},
   "outputs": [
    {
     "name": "stdout",
     "output_type": "stream",
     "text": [
      "g\t1243\t1\t\t1\n",
      "c\t323\t00\t\t2\n",
      "b\t232\t011\t\t3\n",
      "a\t100\t0101\t\t4\n",
      "f\t32\t01000\t\t5\n",
      "d\t2\t010010\t\t6\n",
      "e\t32\t010011\t\t6\n"
     ]
    }
   ],
   "source": [
    "# results (symbol, freq, code, code length )\n",
    "for p in huff:\n",
    "    print(\"{}\\t{}\\t{}\\t\\t{}\".format(p[0], freq_dict[p[0]], p[1], len(p[1])) ) "
   ]
  }
 ],
 "metadata": {
  "kernelspec": {
   "display_name": "Python 3",
   "language": "python",
   "name": "python3"
  },
  "language_info": {
   "codemirror_mode": {
    "name": "ipython",
    "version": 3
   },
   "file_extension": ".py",
   "mimetype": "text/x-python",
   "name": "python",
   "nbconvert_exporter": "python",
   "pygments_lexer": "ipython3",
   "version": "3.6.7"
  }
 },
 "nbformat": 4,
 "nbformat_minor": 2
}
