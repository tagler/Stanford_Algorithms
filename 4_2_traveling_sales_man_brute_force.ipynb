{
 "cells": [
  {
   "cell_type": "code",
   "execution_count": 1,
   "metadata": {},
   "outputs": [],
   "source": [
    "import numpy as np\n",
    "import math\n",
    "import itertools"
   ]
  },
  {
   "cell_type": "code",
   "execution_count": 2,
   "metadata": {},
   "outputs": [],
   "source": [
    "data_list = [[1,2],[3,4],[2,1],[3,6],[3,2],[5,1],[4,2],[10,4]] "
   ]
  },
  {
   "cell_type": "code",
   "execution_count": 3,
   "metadata": {},
   "outputs": [],
   "source": [
    "# distance function betwwen two points \n",
    "def dist_funct(point_1, point_2):\n",
    "    point_1_x = point_1[0]\n",
    "    point_1_y = point_1[1]\n",
    "    point_2_x = point_2[0]\n",
    "    point_2_y = point_2[1]\n",
    "    diff_squares = (point_1_x - point_2_x)**2 + (point_1_y - point_2_y)**2\n",
    "    return math.sqrt(diff_squares)"
   ]
  },
  {
   "cell_type": "code",
   "execution_count": 4,
   "metadata": {},
   "outputs": [],
   "source": [
    "# distance matrix\n",
    "def create_data_matrix(data):\n",
    "    data_matrix = []\n",
    "    for each_point_1 in data:\n",
    "        each_row = []\n",
    "        for each_point_2 in data:\n",
    "            each_row.append( dist_funct(each_point_1, each_point_2) )\n",
    "        data_matrix.append( each_row )\n",
    "    return data_matrix"
   ]
  },
  {
   "cell_type": "code",
   "execution_count": 5,
   "metadata": {},
   "outputs": [],
   "source": [
    "# create data matrix of distances beween all points\n",
    "data_matrix = create_data_matrix(data_list)"
   ]
  },
  {
   "cell_type": "code",
   "execution_count": 6,
   "metadata": {},
   "outputs": [],
   "source": [
    "# generate all permutations\n",
    "perms = list(itertools.permutations(range(0,len(data_list))))"
   ]
  },
  {
   "cell_type": "code",
   "execution_count": 7,
   "metadata": {},
   "outputs": [],
   "source": [
    "# add loop around to start\n",
    "perms_loop = []\n",
    "for each in perms:\n",
    "    each_perm = []\n",
    "    for each_val in each:\n",
    "        each_perm.append(each_val)\n",
    "    each_perm.append( each[0])\n",
    "    perms_loop.append( each_perm )"
   ]
  },
  {
   "cell_type": "code",
   "execution_count": 8,
   "metadata": {},
   "outputs": [],
   "source": [
    "# loop through all permutations and calculate distance between points \n",
    "perm_len = len(data_matrix)\n",
    "results = []\n",
    "for each_perm in perms_loop:\n",
    "    results_each_perm = []\n",
    "    for x in range(0, perm_len):\n",
    "        first_value = each_perm[x] \n",
    "        second_value = each_perm[x+1]\n",
    "        dist = data_matrix[first_value][second_value]\n",
    "        results_each_perm.append( dist )\n",
    "    results.append( results_each_perm )"
   ]
  },
  {
   "cell_type": "code",
   "execution_count": 9,
   "metadata": {},
   "outputs": [
    {
     "name": "stdout",
     "output_type": "stream",
     "text": [
      "[5, 6, 4, 2, 0, 1, 3, 7, 5]\n",
      "23.18212959599129\n"
     ]
    }
   ],
   "source": [
    "# print best path and total weight\n",
    "results_sum = []\n",
    "for each in results:\n",
    "    results_sum.append( sum(each) )\n",
    "min_index = np.argmin(results_sum)\n",
    "print( perms_loop[min_index] )\n",
    "print( results_sum[min_index] )"
   ]
  }
 ],
 "metadata": {
  "kernelspec": {
   "display_name": "Python 3",
   "language": "python",
   "name": "python3"
  },
  "language_info": {
   "codemirror_mode": {
    "name": "ipython",
    "version": 3
   },
   "file_extension": ".py",
   "mimetype": "text/x-python",
   "name": "python",
   "nbconvert_exporter": "python",
   "pygments_lexer": "ipython3",
   "version": "3.6.7"
  }
 },
 "nbformat": 4,
 "nbformat_minor": 2
}
