{
 "cells": [
  {
   "cell_type": "code",
   "execution_count": 1,
   "metadata": {},
   "outputs": [],
   "source": [
    "import random\n",
    "import copy"
   ]
  },
  {
   "cell_type": "code",
   "execution_count": 2,
   "metadata": {},
   "outputs": [],
   "source": [
    "def karger_min_cuts(graph_dic):\n",
    "        \n",
    "    # loop/combine until 2 nodes\n",
    "    while len(graph_dic) > 2:\n",
    "        \n",
    "        # pick random connected nodes to combine\n",
    "        node_1 = random.choice(list(graph_dic.keys()))\n",
    "        node_2 = random.choice(list(graph_dic[node_1]))\n",
    "        \n",
    "        # add node_2's edges to node_1's edges\n",
    "        graph_dic[node_1].extend(graph_dic[node_2])\n",
    "        \n",
    "        for each_node in graph_dic[node_2]:\n",
    "            # remove node_2 connections\n",
    "            graph_dic[each_node].remove(node_2)\n",
    "            # replace with new node_1 connections\n",
    "            graph_dic[each_node].append(node_1) \n",
    "            \n",
    "        # remove self-loops\n",
    "        while node_1 in graph_dic[node_1]:\n",
    "            graph_dic[node_1].remove(node_1)\n",
    "        \n",
    "        # remove node_2 from graph dictionary\n",
    "        del graph_dic[node_2]\n",
    "        \n",
    "    # count edges \n",
    "    first_key = list(graph_dic.keys())[0]\n",
    "    number_of_edges = len(graph_dic[first_key])\n",
    "    \n",
    "    return number_of_edges"
   ]
  },
  {
   "cell_type": "code",
   "execution_count": 3,
   "metadata": {},
   "outputs": [],
   "source": [
    "def run_n_times(n_times, graph_dic):\n",
    "    \n",
    "    # restart with clean diciontary dataset each time\n",
    "    data_dic = copy.deepcopy(graph_dic)\n",
    "    min_cut_count = karger_min_cuts(data_dic)\n",
    "    \n",
    "    # repeat n times\n",
    "    for _ in range(0,n_times):\n",
    "        data_dic = copy.deepcopy(graph_dic)\n",
    "        count = karger_min_cuts(data_dic)\n",
    "        # replace if less than current value\n",
    "        if count < min_cut_count:\n",
    "            min_cut_count = count\n",
    "            \n",
    "    return min_cut_count"
   ]
  },
  {
   "cell_type": "code",
   "execution_count": 4,
   "metadata": {},
   "outputs": [],
   "source": [
    "graph_dic = { 1 : [2,3,4,7], \n",
    "              2 : [1,4],\n",
    "              3 : [1,7],\n",
    "              4 : [1,2,5],\n",
    "              5 : [4,7,8],\n",
    "              6 : [7,8],\n",
    "              7 : [1,3,5,6,8],\n",
    "              8 : [5,6,7] }"
   ]
  },
  {
   "cell_type": "code",
   "execution_count": 5,
   "metadata": {},
   "outputs": [
    {
     "data": {
      "text/plain": [
       "2"
      ]
     },
     "execution_count": 5,
     "metadata": {},
     "output_type": "execute_result"
    }
   ],
   "source": [
    "run_n_times(100, graph_dic)"
   ]
  }
 ],
 "metadata": {
  "kernelspec": {
   "display_name": "Python 3",
   "language": "python",
   "name": "python3"
  },
  "language_info": {
   "codemirror_mode": {
    "name": "ipython",
    "version": 3
   },
   "file_extension": ".py",
   "mimetype": "text/x-python",
   "name": "python",
   "nbconvert_exporter": "python",
   "pygments_lexer": "ipython3",
   "version": "3.6.7"
  }
 },
 "nbformat": 4,
 "nbformat_minor": 2
}
