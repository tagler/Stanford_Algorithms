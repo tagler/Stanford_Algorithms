{
 "cells": [
  {
   "cell_type": "code",
   "execution_count": 1,
   "metadata": {},
   "outputs": [],
   "source": [
    "def inversion_count_merge_sort(array):\n",
    "\n",
    "    # sorted array\n",
    "    sorted_array = [] \n",
    "    \n",
    "    # counts\n",
    "    left_count = 0\n",
    "    right_count = 0\n",
    "    split_count = 0\n",
    "        \n",
    "    if len(array) > 1:\n",
    "        \n",
    "        # split index\n",
    "        split_index = len(array) // 2\n",
    "\n",
    "        # left and right sides of array\n",
    "        left_side = array[:split_index]\n",
    "        right_side = array[split_index:]\n",
    "\n",
    "        # recursive calls to left and right \n",
    "        left_count, left_side = inversion_count_merge_sort(left_side)\n",
    "        right_count, right_side = inversion_count_merge_sort(right_side)\n",
    "\n",
    "        # merge and count inversions  \n",
    "        left_index = right_index = 0\n",
    "        while left_index < len(left_side) and right_index < len(right_side):\n",
    "            if left_side[left_index] < right_side[right_index]:\n",
    "                sorted_array.append(left_side[left_index])\n",
    "                left_index += 1\n",
    "            else:\n",
    "                sorted_array.append(right_side[right_index])\n",
    "                right_index += 1\n",
    "                split_count += len(left_side[left_index:])\n",
    "        while left_index < len(left_side):\n",
    "            sorted_array.append(left_side[left_index])\n",
    "            left_index += 1\n",
    "        while right_index < len(right_side):\n",
    "            sorted_array.append(right_side[right_index])\n",
    "            right_index += 1\n",
    "    \n",
    "    else:\n",
    "        sorted_array = array[:]\n",
    "\n",
    "    return (split_count + left_count + right_count), sorted_array"
   ]
  },
  {
   "cell_type": "code",
   "execution_count": 2,
   "metadata": {},
   "outputs": [],
   "source": [
    "data_list_int = [1,4,6,3,9,4,2,7,4,2,4,6,2,3,4,5,0,10,3,6,8,9,2]"
   ]
  },
  {
   "cell_type": "code",
   "execution_count": 3,
   "metadata": {},
   "outputs": [
    {
     "data": {
      "text/plain": [
       "(123, [0, 1, 2, 2, 2, 2, 3, 3, 3, 4, 4, 4, 4, 4, 5, 6, 6, 6, 7, 8, 9, 9, 10])"
      ]
     },
     "execution_count": 3,
     "metadata": {},
     "output_type": "execute_result"
    }
   ],
   "source": [
    "inversion_count_merge_sort(data_list_int)"
   ]
  }
 ],
 "metadata": {
  "kernelspec": {
   "display_name": "Python 3",
   "language": "python",
   "name": "python3"
  },
  "language_info": {
   "codemirror_mode": {
    "name": "ipython",
    "version": 3
   },
   "file_extension": ".py",
   "mimetype": "text/x-python",
   "name": "python",
   "nbconvert_exporter": "python",
   "pygments_lexer": "ipython3",
   "version": "3.6.7"
  }
 },
 "nbformat": 4,
 "nbformat_minor": 2
}
